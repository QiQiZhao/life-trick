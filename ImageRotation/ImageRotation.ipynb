{
 "cells": [
  {
   "cell_type": "code",
   "execution_count": 1,
   "metadata": {},
   "outputs": [],
   "source": [
    "from PIL import Image, ExifTags\n",
    "import glob as gb"
   ]
  },
  {
   "cell_type": "code",
   "execution_count": 2,
   "metadata": {},
   "outputs": [],
   "source": [
    "img_path = gb.glob(\"Scotland\\\\*.jpg\") #set image fold path"
   ]
  },
  {
   "cell_type": "code",
   "execution_count": 3,
   "metadata": {},
   "outputs": [
    {
     "name": "stdout",
     "output_type": "stream",
     "text": [
      "Scotland\\IMG_0088.jpg is finished.\n",
      "Scotland\\IMG_0089.jpg is finished.\n",
      "Scotland\\IMG_0090.jpg is finished.\n",
      "Scotland\\IMG_0092.jpg is finished.\n",
      "Scotland\\IMG_0093.jpg is finished.\n",
      "Scotland\\IMG_0094(1).jpg is finished.\n",
      "Scotland\\IMG_0094.jpg is finished.\n",
      "Scotland\\IMG_0095(1).jpg is finished.\n",
      "Scotland\\IMG_0095.jpg is finished.\n",
      "Scotland\\IMG_0096(1).jpg is finished.\n",
      "Scotland\\IMG_0096.jpg is finished.\n",
      "Scotland\\IMG_0097.jpg is finished.\n",
      "Scotland\\IMG_0098(1).jpg is finished.\n",
      "Scotland\\IMG_0098.jpg is finished.\n",
      "Scotland\\IMG_0099.jpg is finished.\n",
      "Scotland\\IMG_0100(1).jpg is finished.\n",
      "Scotland\\IMG_0100.jpg is finished.\n",
      "Scotland\\IMG_0101.jpg is finished.\n",
      "Scotland\\IMG_0102(1).jpg is finished.\n",
      "Scotland\\IMG_0102.jpg is finished.\n",
      "Scotland\\IMG_0103.jpg is finished.\n",
      "Scotland\\IMG_0104(1).jpg is finished.\n",
      "Scotland\\IMG_0104.jpg is finished.\n",
      "Scotland\\IMG_0105.jpg is finished.\n",
      "Scotland\\IMG_0106(1).jpg is finished.\n",
      "Scotland\\IMG_0107(1).jpg is finished.\n",
      "Scotland\\IMG_0107.jpg is finished.\n",
      "Scotland\\IMG_0108.jpg is finished.\n",
      "Scotland\\IMG_0109.jpg is finished.\n",
      "Scotland\\IMG_0110.jpg is finished.\n",
      "Scotland\\IMG_0111.jpg is finished.\n",
      "Scotland\\IMG_0112.jpg is finished.\n",
      "Scotland\\IMG_0113.jpg is finished.\n"
     ]
    }
   ],
   "source": [
    "for filepath in img_path:\n",
    "    image=Image.open(filepath)\n",
    "    for orientation in ExifTags.TAGS.keys():\n",
    "        if ExifTags.TAGS[orientation]=='Orientation':\n",
    "            break\n",
    "    exif=dict(image._getexif().items()) #get exif information\n",
    "\n",
    "    if exif[orientation] == 3:  #Rotate the picture based on exif information\n",
    "        image=image.rotate(180, expand=True)\n",
    "    elif exif[orientation] == 6:\n",
    "        image=image.rotate(270, expand=True)\n",
    "    elif exif[orientation] == 8:\n",
    "        image=image.rotate(90, expand=True)\n",
    "    image.save(filepath)\n",
    "    print(filepath+\" is finished.\")\n",
    "    image.close()"
   ]
  }
 ],
 "metadata": {
  "kernelspec": {
   "display_name": "Python 3",
   "language": "python",
   "name": "python3"
  },
  "language_info": {
   "codemirror_mode": {
    "name": "ipython",
    "version": 3
   },
   "file_extension": ".py",
   "mimetype": "text/x-python",
   "name": "python",
   "nbconvert_exporter": "python",
   "pygments_lexer": "ipython3",
   "version": "3.7.4"
  }
 },
 "nbformat": 4,
 "nbformat_minor": 2
}
